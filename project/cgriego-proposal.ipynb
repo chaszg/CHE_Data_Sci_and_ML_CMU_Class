{
 "cells": [
  {
   "cell_type": "markdown",
   "metadata": {},
   "source": [
    "## Project Proposal - Chasz Griego\n",
    "\n",
    "I would like to use this project opportunity to explore an idea that I started to work on months ago but haven't found time to continue since. In light of the recent announcements of NSF Graduate Research Fellowship Program (GRFP) awards, I would like to study correlations between GRFP recipients and their respective institutions and fields of study using data science and machine learning. This topic is important to me because a year ago, I was awarded this fellowship and my university has recently been pushing for more applicants. I would like to further understand if there are any types of biases in the selection process of this system. Therefore, I want to investigate the possibility of these biases and even see if they offer predictive power in a machine learning algorithm. NSF provides open access to lists of award winners and honorable mentions for every award year:\n",
    "\n",
    "https://www.research.gov/grfp/AwardeeList.do?method=loadAwardeeList\n",
    "\n",
    "This site lets you export the data for a separate award year as an Excel file. My plan is to export and analyze this data for the past 10 years (2011-2020).  "
   ]
  },
  {
   "cell_type": "markdown",
   "metadata": {},
   "source": [
    "### Information about the data\n",
    "These files contain information about each recipient: \n",
    "\n",
    "- Name\n",
    "- Baccalaureate Institution\n",
    "- Field of Study\n",
    "- Current Institution\n",
    "- Award Year\n",
    "- If the recipient is an award winner or honorable mention\n",
    "\n",
    "These aren't an overwhelming amount of features, but I feel it's a sufficient amount to do data science analyses from different angles. "
   ]
  },
  {
   "cell_type": "markdown",
   "metadata": {},
   "source": [
    "### Project tasks\n",
    "I would like to complete the following tasks in this project:\n",
    "\n",
    "- Build a Pandas DataFrame that includes GRFP recipient data from the past 10 years\n",
    "- Cleanup the text data so that it is organized and easily readable for a machine learning algorithm\n",
    "- Construct feature vectors from this data and train and validate a simple machine learning algorithm\n",
    "- Make interactive visualizations that compare the numbers of recipients at different institutions and fields of study "
   ]
  },
  {
   "cell_type": "markdown",
   "metadata": {},
   "source": [
    "### Details of each task\n",
    "\n",
    "#### Building DataFrame:\n",
    "\n",
    "This task will include exporting and reading in multiple Excel files. I will use Pandas to read 10 files that include award winner data and 10 files that include honorable mention data. Each file will be stored in a separate Dataframe and then concatenated into one.\n",
    "\n",
    "**Estimated Time to Complete: 1 Hour**\n",
    "\n",
    "#### Cleaning text data\n",
    "\n",
    "I anticipate this task to be more tricky. The data supplied is all user inputted from when the recipients applied for the award. There are inconsistencies in the ways that institution names are recorded. Some have different abbreviations, different letter casing, use of symbols, and typos. I will need to figure out a way to read each name and change it to a standard form so that it's easier to group the data and feed it into an algorithm. For instance, if the institution name is supplied as *\"Carnegie Mellon U.,\"* I will change it into something like *\"carnegie mellon university\"*.\n",
    "\n",
    "**Estimated Time to Complete: 3 Hours**\n",
    "\n",
    "#### Feature engineering and model building\n",
    "\n",
    "Once the data is clean, building a model will be a more simple task. First I will construct feature vectors that can be inputted into a model. These vectors will describe institutions, fields of study, and year awarded for each recipient, and these vectors will be normalized against lists of all possible choices of each feature. The labels for each data point, that the model will be trying to predict, will be if the recipient was an award winner or an honorable mention. Once the features are built in a way that can easily be fed to a model, I will build and assess a few model types.\n",
    "\n",
    "**Estimated Time to Complete: 2 Hours**\n",
    "\n",
    "#### Making interactive visualizations\n",
    "\n",
    "I have some ambitious ideas about this task, but I may not have enough time to carry them out. Ideally, I would like to create a figure that shows a map of the United States with locations of universities emphasized. The user could then click on a location and it would show a summary of the affiliated recipients. It would also be helpful if the figure illustrates how many recipients are in a certain area, so the user could get a general idea before interacting with the figure. However, this may be too complicated and too much work for the scope of the project. Since I would still like to visualize the information given from my data, I could make interactive pie/bar charts that show the distribution of awards among institutions and fields of study. \n",
    "\n",
    "**Estimated Time to Complete: 2 Hours**\n",
    "\n",
    "#### Project Write-Up\n",
    "\n",
    "For the write-up, I will allocate the remaining time writing up annotations and explainations about my code. This time will also be spent revising the overall structure of the report.\n",
    "\n",
    "**Estimated Time to Complete: 2 Hours**"
   ]
  },
  {
   "cell_type": "code",
   "execution_count": null,
   "metadata": {},
   "outputs": [],
   "source": []
  }
 ],
 "metadata": {
  "kernelspec": {
   "display_name": "Python 3",
   "language": "python",
   "name": "python3"
  },
  "language_info": {
   "codemirror_mode": {
    "name": "ipython",
    "version": 3
   },
   "file_extension": ".py",
   "mimetype": "text/x-python",
   "name": "python",
   "nbconvert_exporter": "python",
   "pygments_lexer": "ipython3",
   "version": "3.7.1"
  }
 },
 "nbformat": 4,
 "nbformat_minor": 2
}
