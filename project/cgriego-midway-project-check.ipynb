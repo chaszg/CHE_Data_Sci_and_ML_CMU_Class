{
 "cells": [
  {
   "cell_type": "markdown",
   "metadata": {},
   "source": [
    "## Midway Project Check - Chasz Griego\n",
    "\n",
    "This is a summary of my recent progress on my project. As a reminder, I am analyzing data about NSF GRFP recipients from the past ten years. The raw data can be obtained from the following source:\n",
    "\n",
    "https://www.research.gov/grfp/AwardeeList.do?method=loadAwardeeList"
   ]
  },
  {
   "cell_type": "markdown",
   "metadata": {},
   "source": [
    "In my project proposal, I suggested four tasks that I will complete (estimated completion time included):\n",
    "\n",
    "- Build a Pandas DataFrame that includes GRFP recipient data from the past 10 years (**1 hour**)\n",
    "- Cleanup the text data so that it is organized and easily readable for a machine learning algorithm (**3 hours**)\n",
    "- Construct feature vectors from this data and train and validate a simple machine learning algorithm (**2 hours**)\n",
    "- Make interactive visualizations that compare the numbers of recipients at different institutions and fields of study (**2 hours**) \n",
    "\n",
    "In this notebook, I will address the status of each task, including the code written to complete them."
   ]
  },
  {
   "cell_type": "markdown",
   "metadata": {},
   "source": [
    "#### Building DataFrame"
   ]
  },
  {
   "cell_type": "markdown",
   "metadata": {},
   "source": [
    "I extracted CSV files, separated by year, that contain information on recipients that won the award or received an honorable mention. To access these files to run the first few cells, unzip the file `nsf_grfp_recipients_2011_2020_separated.zip` and store them in the same directory as this notebook."
   ]
  },
  {
   "cell_type": "code",
   "execution_count": 41,
   "metadata": {},
   "outputs": [],
   "source": [
    "import pandas as pd\n",
    "import numpy as np"
   ]
  },
  {
   "cell_type": "markdown",
   "metadata": {},
   "source": [
    "Below is a function that reads the CSV files. I made a consistent naming scheme so that every file can be read in a loop. Each file is read into a pandas DataFrame, a second DataFrame is defined with the pertinent columns, and columns are added to describe the year and the recipients status (award or honorable mention). The names of the recipients aren't included so that the dataset is anonymous. Each DataFrame is stored in a list which is concatanated into one."
   ]
  },
  {
   "cell_type": "code",
   "execution_count": 42,
   "metadata": {},
   "outputs": [],
   "source": [
    "def read_data(years, status):\n",
    "    \n",
    "    dflist = []\n",
    "    for year in years:\n",
    "        df1 = pd.read_csv(f'{year}{status}.csv',\n",
    "                         index_col=None,\n",
    "                         header=0,\n",
    "                         encoding='latin-1')\n",
    "        \n",
    "        df2 = pd.DataFrame({'Baccalaureate Institution':df1['Baccalaureate Institution'],\n",
    "                            'Current Institution':df1['Current Institution'],\n",
    "                            'Field of Study':df1['Field of Study'],\n",
    "                            'Year':[year]*len(df1),\n",
    "                            'Status':[status]*len(df1)})\n",
    "\n",
    "        dflist.append(df2)\n",
    "\n",
    "    df_all = pd.concat(dflist, axis=0, ignore_index=True)\n",
    "    \n",
    "    return df_all"
   ]
  },
  {
   "cell_type": "markdown",
   "metadata": {},
   "source": [
    "Next, a list of years is made to select the files."
   ]
  },
  {
   "cell_type": "code",
   "execution_count": 43,
   "metadata": {},
   "outputs": [],
   "source": [
    "years = [str(int(y)) for y in np.linspace(2011,2020,10)]"
   ]
  },
  {
   "cell_type": "markdown",
   "metadata": {},
   "source": [
    "Below the `read_data` function is called to make a dataframe of award winners."
   ]
  },
  {
   "cell_type": "code",
   "execution_count": 44,
   "metadata": {},
   "outputs": [],
   "source": [
    "awards = read_data(years, 'award')"
   ]
  },
  {
   "cell_type": "code",
   "execution_count": 45,
   "metadata": {},
   "outputs": [
    {
     "data": {
      "text/html": [
       "<div>\n",
       "<style scoped>\n",
       "    .dataframe tbody tr th:only-of-type {\n",
       "        vertical-align: middle;\n",
       "    }\n",
       "\n",
       "    .dataframe tbody tr th {\n",
       "        vertical-align: top;\n",
       "    }\n",
       "\n",
       "    .dataframe thead th {\n",
       "        text-align: right;\n",
       "    }\n",
       "</style>\n",
       "<table border=\"1\" class=\"dataframe\">\n",
       "  <thead>\n",
       "    <tr style=\"text-align: right;\">\n",
       "      <th></th>\n",
       "      <th>Baccalaureate Institution</th>\n",
       "      <th>Current Institution</th>\n",
       "      <th>Field of Study</th>\n",
       "      <th>Year</th>\n",
       "      <th>Status</th>\n",
       "    </tr>\n",
       "  </thead>\n",
       "  <tbody>\n",
       "    <tr>\n",
       "      <th>0</th>\n",
       "      <td>University of Minnesota-Twin Cities</td>\n",
       "      <td>University of Minnesota-Twin Cities</td>\n",
       "      <td>Chemistry - Analytical</td>\n",
       "      <td>2011</td>\n",
       "      <td>award</td>\n",
       "    </tr>\n",
       "    <tr>\n",
       "      <th>1</th>\n",
       "      <td>University of Southern Mississippi</td>\n",
       "      <td>University of Southern Mississippi</td>\n",
       "      <td>Chemistry - Polymer</td>\n",
       "      <td>2011</td>\n",
       "      <td>award</td>\n",
       "    </tr>\n",
       "    <tr>\n",
       "      <th>2</th>\n",
       "      <td>University of New Mexico</td>\n",
       "      <td>University of Washington</td>\n",
       "      <td>Life Sciences - Molecular Biology</td>\n",
       "      <td>2011</td>\n",
       "      <td>award</td>\n",
       "    </tr>\n",
       "    <tr>\n",
       "      <th>3</th>\n",
       "      <td>University of Texas at Austin</td>\n",
       "      <td>UNIVERSITY OF CALIFORNIA BERKELEY</td>\n",
       "      <td>Life Sciences - Developmental Biology</td>\n",
       "      <td>2011</td>\n",
       "      <td>award</td>\n",
       "    </tr>\n",
       "    <tr>\n",
       "      <th>4</th>\n",
       "      <td>Vanderbilt University</td>\n",
       "      <td>Vanderbilt University</td>\n",
       "      <td>Life Sciences - Biophysics</td>\n",
       "      <td>2011</td>\n",
       "      <td>award</td>\n",
       "    </tr>\n",
       "  </tbody>\n",
       "</table>\n",
       "</div>"
      ],
      "text/plain": [
       "             Baccalaureate Institution                  Current Institution  \\\n",
       "0  University of Minnesota-Twin Cities  University of Minnesota-Twin Cities   \n",
       "1   University of Southern Mississippi   University of Southern Mississippi   \n",
       "2             University of New Mexico             University of Washington   \n",
       "3        University of Texas at Austin    UNIVERSITY OF CALIFORNIA BERKELEY   \n",
       "4                Vanderbilt University                Vanderbilt University   \n",
       "\n",
       "                          Field of Study  Year Status  \n",
       "0                 Chemistry - Analytical  2011  award  \n",
       "1                    Chemistry - Polymer  2011  award  \n",
       "2      Life Sciences - Molecular Biology  2011  award  \n",
       "3  Life Sciences - Developmental Biology  2011  award  \n",
       "4             Life Sciences - Biophysics  2011  award  "
      ]
     },
     "execution_count": 45,
     "metadata": {},
     "output_type": "execute_result"
    }
   ],
   "source": [
    "awards.head()"
   ]
  },
  {
   "cell_type": "markdown",
   "metadata": {},
   "source": [
    "Here, we can see that this dataframe contains five columns: the baccalaureate institution of the recipient, their current field of study, their current institution where they are pursuing a graduate degree, the year of the award, the award status."
   ]
  },
  {
   "cell_type": "markdown",
   "metadata": {},
   "source": [
    "This is also done for honorable mentions:"
   ]
  },
  {
   "cell_type": "code",
   "execution_count": 46,
   "metadata": {},
   "outputs": [],
   "source": [
    "mentions = read_data(years, 'mention')"
   ]
  },
  {
   "cell_type": "code",
   "execution_count": 47,
   "metadata": {},
   "outputs": [
    {
     "data": {
      "text/html": [
       "<div>\n",
       "<style scoped>\n",
       "    .dataframe tbody tr th:only-of-type {\n",
       "        vertical-align: middle;\n",
       "    }\n",
       "\n",
       "    .dataframe tbody tr th {\n",
       "        vertical-align: top;\n",
       "    }\n",
       "\n",
       "    .dataframe thead th {\n",
       "        text-align: right;\n",
       "    }\n",
       "</style>\n",
       "<table border=\"1\" class=\"dataframe\">\n",
       "  <thead>\n",
       "    <tr style=\"text-align: right;\">\n",
       "      <th></th>\n",
       "      <th>Baccalaureate Institution</th>\n",
       "      <th>Current Institution</th>\n",
       "      <th>Field of Study</th>\n",
       "      <th>Year</th>\n",
       "      <th>Status</th>\n",
       "    </tr>\n",
       "  </thead>\n",
       "  <tbody>\n",
       "    <tr>\n",
       "      <th>0</th>\n",
       "      <td>Oberlin College</td>\n",
       "      <td>Florida International University</td>\n",
       "      <td>Life Sciences - Ecology</td>\n",
       "      <td>2011</td>\n",
       "      <td>mention</td>\n",
       "    </tr>\n",
       "    <tr>\n",
       "      <th>1</th>\n",
       "      <td>New College of Florida</td>\n",
       "      <td>UNIVERSITY OF CALIFORNIA BERKELEY</td>\n",
       "      <td>Psychology - Computational Psychology</td>\n",
       "      <td>2011</td>\n",
       "      <td>mention</td>\n",
       "    </tr>\n",
       "    <tr>\n",
       "      <th>2</th>\n",
       "      <td>University of Massachusetts Amherst</td>\n",
       "      <td>University of Massachusetts Amherst</td>\n",
       "      <td>Life Sciences - Developmental Biology</td>\n",
       "      <td>2011</td>\n",
       "      <td>mention</td>\n",
       "    </tr>\n",
       "    <tr>\n",
       "      <th>3</th>\n",
       "      <td>Indiana University-Purdue University at Indian...</td>\n",
       "      <td>Indiana University</td>\n",
       "      <td>Psychology - Cognitive Neuroscience</td>\n",
       "      <td>2011</td>\n",
       "      <td>mention</td>\n",
       "    </tr>\n",
       "    <tr>\n",
       "      <th>4</th>\n",
       "      <td>Brandeis University</td>\n",
       "      <td>NaN</td>\n",
       "      <td>Life Sciences - Ecology</td>\n",
       "      <td>2011</td>\n",
       "      <td>mention</td>\n",
       "    </tr>\n",
       "  </tbody>\n",
       "</table>\n",
       "</div>"
      ],
      "text/plain": [
       "                           Baccalaureate Institution  \\\n",
       "0                                    Oberlin College   \n",
       "1                             New College of Florida   \n",
       "2                University of Massachusetts Amherst   \n",
       "3  Indiana University-Purdue University at Indian...   \n",
       "4                                Brandeis University   \n",
       "\n",
       "                   Current Institution                         Field of Study  \\\n",
       "0     Florida International University                Life Sciences - Ecology   \n",
       "1    UNIVERSITY OF CALIFORNIA BERKELEY  Psychology - Computational Psychology   \n",
       "2  University of Massachusetts Amherst  Life Sciences - Developmental Biology   \n",
       "3                   Indiana University    Psychology - Cognitive Neuroscience   \n",
       "4                                  NaN                Life Sciences - Ecology   \n",
       "\n",
       "   Year   Status  \n",
       "0  2011  mention  \n",
       "1  2011  mention  \n",
       "2  2011  mention  \n",
       "3  2011  mention  \n",
       "4  2011  mention  "
      ]
     },
     "execution_count": 47,
     "metadata": {},
     "output_type": "execute_result"
    }
   ],
   "source": [
    "mentions.head()"
   ]
  },
  {
   "cell_type": "markdown",
   "metadata": {},
   "source": [
    "Next I merge the two dataframes:"
   ]
  },
  {
   "cell_type": "code",
   "execution_count": 48,
   "metadata": {},
   "outputs": [],
   "source": [
    "nsf = pd.concat([awards, mentions], axis=0, ignore_index=True)"
   ]
  },
  {
   "cell_type": "markdown",
   "metadata": {},
   "source": [
    "Next, I checking if any columns contains NaNs. It looks like just the `Current Institution` column does. "
   ]
  },
  {
   "cell_type": "code",
   "execution_count": 49,
   "metadata": {},
   "outputs": [
    {
     "data": {
      "text/plain": [
       "Baccalaureate Institution    False\n",
       "Current Institution           True\n",
       "Field of Study               False\n",
       "Year                         False\n",
       "Status                       False\n",
       "dtype: bool"
      ]
     },
     "execution_count": 49,
     "metadata": {},
     "output_type": "execute_result"
    }
   ],
   "source": [
    "nsf.isna().any()"
   ]
  },
  {
   "cell_type": "markdown",
   "metadata": {},
   "source": [
    "To make it more interprettable, all the NaNs are filled with the word \"Undecided\". Here, we're assuming that the applicant's did not fill this field because they were undergraduates that didn't know where they would be going for grad school."
   ]
  },
  {
   "cell_type": "code",
   "execution_count": 50,
   "metadata": {},
   "outputs": [
    {
     "data": {
      "text/plain": [
       "Baccalaureate Institution    False\n",
       "Current Institution          False\n",
       "Field of Study               False\n",
       "Year                         False\n",
       "Status                       False\n",
       "dtype: bool"
      ]
     },
     "execution_count": 50,
     "metadata": {},
     "output_type": "execute_result"
    }
   ],
   "source": [
    "nsf = nsf.fillna({'Current Institution':'Undecided'})\n",
    "nsf.isna().any()"
   ]
  },
  {
   "cell_type": "markdown",
   "metadata": {},
   "source": [
    "Next, I decided to write all of the data to a master CSV, so that it's easier to access in future notebooks. "
   ]
  },
  {
   "cell_type": "code",
   "execution_count": 51,
   "metadata": {},
   "outputs": [],
   "source": [
    "nsf.to_csv(f'nsf_grfp_recipients_{years[0]}_{years[-1]}.csv',index=False)"
   ]
  },
  {
   "cell_type": "markdown",
   "metadata": {},
   "source": [
    "This portion of the project was fairly straight-forward, and didn't take too long to complete."
   ]
  },
  {
   "cell_type": "markdown",
   "metadata": {},
   "source": [
    "#### Cleaning text data\n",
    "\n",
    "I'm currently working on this task. I think I'm off to a good start, but there is still more things to figure out. As a reminder, I'm trying to cleanup the data about institutions, which was user-inputted, so there are inconsistencies with the ways that institution names are recorded. Below I'm working through ways to process the data so that it's more normalized and that recipients that belong to the same institution can be grouped as such."
   ]
  },
  {
   "cell_type": "markdown",
   "metadata": {},
   "source": [
    "First, I check if the data is case sensitive. I check with the method `.str.lower()`. Below I compare how many unique baccalaureate institutions there are before and after making all words lowercase."
   ]
  },
  {
   "cell_type": "code",
   "execution_count": 52,
   "metadata": {},
   "outputs": [
    {
     "name": "stdout",
     "output_type": "stream",
     "text": [
      "Unique entries with no change: 1530\n",
      "Unique entries with all lower case: 1484\n"
     ]
    }
   ],
   "source": [
    "print('Unique entries with no change:',len(nsf['Baccalaureate Institution'].unique()))\n",
    "print('Unique entries with all lower case:',len(nsf['Baccalaureate Institution'].str.lower().unique()))"
   ]
  },
  {
   "cell_type": "markdown",
   "metadata": {},
   "source": [
    "We can see that by making each entry lowercased, we significantly reduce the number of unique institution names in the `Baccalaureate Instituion` column. We'll make that change to that column and the `Current Institution` column."
   ]
  },
  {
   "cell_type": "code",
   "execution_count": 55,
   "metadata": {},
   "outputs": [],
   "source": [
    "nsf['Baccalaureate Institution'] = nsf['Baccalaureate Institution'].str.lower()\n",
    "nsf['Current Institution'] = nsf['Current Institution'].str.lower()"
   ]
  },
  {
   "cell_type": "markdown",
   "metadata": {},
   "source": [
    "Next, I use `.apply()` and `.translate()` to remove any punctuation marks that may be in an entry. I use a library of punctuation marks from the `string` module."
   ]
  },
  {
   "cell_type": "code",
   "execution_count": 56,
   "metadata": {},
   "outputs": [
    {
     "name": "stdout",
     "output_type": "stream",
     "text": [
      "Unique entries with punctuation removed: 1457\n"
     ]
    }
   ],
   "source": [
    "import string\n",
    "nsf['Baccalaureate Institution'] = (nsf['Baccalaureate Institution']\n",
    "                                    .apply(lambda x: x.translate({ord(c):\n",
    "                                    None for c in string.punctuation})))\n",
    "\n",
    "print('Unique entries with punctuation removed:',\n",
    "      len(nsf['Baccalaureate Institution'].unique()))"
   ]
  },
  {
   "cell_type": "markdown",
   "metadata": {},
   "source": [
    "We can see that this operation also helped reduce the number of unique entries."
   ]
  },
  {
   "cell_type": "markdown",
   "metadata": {},
   "source": [
    "As of today, this is the most manipulation I've done to clean up this data. My next goal is to try to figure out a way to compare these entries to a list of all universities in the united states so that I can fish out the rest of the names that were inputted inconsistently. "
   ]
  },
  {
   "cell_type": "markdown",
   "metadata": {},
   "source": [
    "I found a JSON file of all universities from this page:\n",
    "\n",
    "https://github.com/Hipo/university-domains-list\n",
    "\n",
    "I navigate the repository to get to a site with the raw text data and use `urllib.request` to store the data back into a new JSON file in my directory."
   ]
  },
  {
   "cell_type": "code",
   "execution_count": 57,
   "metadata": {},
   "outputs": [
    {
     "data": {
      "text/plain": [
       "('world_universities_and_domains.json',\n",
       " <http.client.HTTPMessage at 0x1963743b080>)"
      ]
     },
     "execution_count": 57,
     "metadata": {},
     "output_type": "execute_result"
    }
   ],
   "source": [
    "url = 'https://raw.githubusercontent.com/Hipo/university-domains-list/master/world_universities_and_domains.json'\n",
    "\n",
    "import urllib.request\n",
    "urllib.request.urlretrieve(url, 'world_universities_and_domains.json')"
   ]
  },
  {
   "cell_type": "code",
   "execution_count": 58,
   "metadata": {},
   "outputs": [],
   "source": [
    "unis = pd.read_json('world_universities_and_domains.json')"
   ]
  },
  {
   "cell_type": "code",
   "execution_count": 59,
   "metadata": {},
   "outputs": [
    {
     "data": {
      "text/html": [
       "<div>\n",
       "<style scoped>\n",
       "    .dataframe tbody tr th:only-of-type {\n",
       "        vertical-align: middle;\n",
       "    }\n",
       "\n",
       "    .dataframe tbody tr th {\n",
       "        vertical-align: top;\n",
       "    }\n",
       "\n",
       "    .dataframe thead th {\n",
       "        text-align: right;\n",
       "    }\n",
       "</style>\n",
       "<table border=\"1\" class=\"dataframe\">\n",
       "  <thead>\n",
       "    <tr style=\"text-align: right;\">\n",
       "      <th></th>\n",
       "      <th>web_pages</th>\n",
       "      <th>name</th>\n",
       "      <th>alpha_two_code</th>\n",
       "      <th>state-province</th>\n",
       "      <th>domains</th>\n",
       "      <th>country</th>\n",
       "    </tr>\n",
       "  </thead>\n",
       "  <tbody>\n",
       "    <tr>\n",
       "      <th>0</th>\n",
       "      <td>[http://www.marywood.edu]</td>\n",
       "      <td>Marywood University</td>\n",
       "      <td>PA</td>\n",
       "      <td>None</td>\n",
       "      <td>[marywood.edu]</td>\n",
       "      <td>United States</td>\n",
       "    </tr>\n",
       "    <tr>\n",
       "      <th>1</th>\n",
       "      <td>[https://www.cstj.qc.ca, https://ccmt.cstj.qc....</td>\n",
       "      <td>Cégep de Saint-Jérôme</td>\n",
       "      <td>CA</td>\n",
       "      <td>None</td>\n",
       "      <td>[cstj.qc.ca]</td>\n",
       "      <td>Canada</td>\n",
       "    </tr>\n",
       "    <tr>\n",
       "      <th>2</th>\n",
       "      <td>[http://www.lindenwood.edu/]</td>\n",
       "      <td>Lindenwood University</td>\n",
       "      <td>US</td>\n",
       "      <td>None</td>\n",
       "      <td>[lindenwood.edu]</td>\n",
       "      <td>United States</td>\n",
       "    </tr>\n",
       "    <tr>\n",
       "      <th>3</th>\n",
       "      <td>[http://www.davietjal.org/]</td>\n",
       "      <td>DAV Institute of Engineering &amp; Technology</td>\n",
       "      <td>IN</td>\n",
       "      <td>Punjab</td>\n",
       "      <td>[davietjal.org]</td>\n",
       "      <td>India</td>\n",
       "    </tr>\n",
       "    <tr>\n",
       "      <th>4</th>\n",
       "      <td>[http://www.lpu.in/]</td>\n",
       "      <td>Lovely Professional University</td>\n",
       "      <td>IN</td>\n",
       "      <td>Punjab</td>\n",
       "      <td>[lpu.in]</td>\n",
       "      <td>India</td>\n",
       "    </tr>\n",
       "  </tbody>\n",
       "</table>\n",
       "</div>"
      ],
      "text/plain": [
       "                                           web_pages  \\\n",
       "0                          [http://www.marywood.edu]   \n",
       "1  [https://www.cstj.qc.ca, https://ccmt.cstj.qc....   \n",
       "2                       [http://www.lindenwood.edu/]   \n",
       "3                        [http://www.davietjal.org/]   \n",
       "4                               [http://www.lpu.in/]   \n",
       "\n",
       "                                        name alpha_two_code state-province  \\\n",
       "0                        Marywood University             PA           None   \n",
       "1                      Cégep de Saint-Jérôme             CA           None   \n",
       "2                      Lindenwood University             US           None   \n",
       "3  DAV Institute of Engineering & Technology             IN         Punjab   \n",
       "4             Lovely Professional University             IN         Punjab   \n",
       "\n",
       "            domains        country  \n",
       "0    [marywood.edu]  United States  \n",
       "1      [cstj.qc.ca]         Canada  \n",
       "2  [lindenwood.edu]  United States  \n",
       "3   [davietjal.org]          India  \n",
       "4          [lpu.in]          India  "
      ]
     },
     "execution_count": 59,
     "metadata": {},
     "output_type": "execute_result"
    }
   ],
   "source": [
    "unis.head()"
   ]
  },
  {
   "cell_type": "markdown",
   "metadata": {},
   "source": [
    "This DataFrame contains some information about every university in the world. I can use this to extract every university in the United States."
   ]
  },
  {
   "cell_type": "code",
   "execution_count": 60,
   "metadata": {},
   "outputs": [
    {
     "data": {
      "text/html": [
       "<div>\n",
       "<style scoped>\n",
       "    .dataframe tbody tr th:only-of-type {\n",
       "        vertical-align: middle;\n",
       "    }\n",
       "\n",
       "    .dataframe tbody tr th {\n",
       "        vertical-align: top;\n",
       "    }\n",
       "\n",
       "    .dataframe thead th {\n",
       "        text-align: right;\n",
       "    }\n",
       "</style>\n",
       "<table border=\"1\" class=\"dataframe\">\n",
       "  <thead>\n",
       "    <tr style=\"text-align: right;\">\n",
       "      <th></th>\n",
       "      <th>web_pages</th>\n",
       "      <th>name</th>\n",
       "      <th>alpha_two_code</th>\n",
       "      <th>state-province</th>\n",
       "      <th>domains</th>\n",
       "      <th>country</th>\n",
       "    </tr>\n",
       "  </thead>\n",
       "  <tbody>\n",
       "    <tr>\n",
       "      <th>0</th>\n",
       "      <td>[http://www.marywood.edu]</td>\n",
       "      <td>Marywood University</td>\n",
       "      <td>PA</td>\n",
       "      <td>None</td>\n",
       "      <td>[marywood.edu]</td>\n",
       "      <td>United States</td>\n",
       "    </tr>\n",
       "    <tr>\n",
       "      <th>2</th>\n",
       "      <td>[http://www.lindenwood.edu/]</td>\n",
       "      <td>Lindenwood University</td>\n",
       "      <td>US</td>\n",
       "      <td>None</td>\n",
       "      <td>[lindenwood.edu]</td>\n",
       "      <td>United States</td>\n",
       "    </tr>\n",
       "    <tr>\n",
       "      <th>5</th>\n",
       "      <td>[https://sullivan.edu/]</td>\n",
       "      <td>Sullivan University</td>\n",
       "      <td>US</td>\n",
       "      <td>None</td>\n",
       "      <td>[sullivan.edu]</td>\n",
       "      <td>United States</td>\n",
       "    </tr>\n",
       "    <tr>\n",
       "      <th>6</th>\n",
       "      <td>[https://www.fscj.edu/]</td>\n",
       "      <td>Florida State College at Jacksonville</td>\n",
       "      <td>US</td>\n",
       "      <td>None</td>\n",
       "      <td>[fscj.edu]</td>\n",
       "      <td>United States</td>\n",
       "    </tr>\n",
       "    <tr>\n",
       "      <th>7</th>\n",
       "      <td>[https://www.xavier.edu/]</td>\n",
       "      <td>Xavier University</td>\n",
       "      <td>US</td>\n",
       "      <td>None</td>\n",
       "      <td>[xavier.edu]</td>\n",
       "      <td>United States</td>\n",
       "    </tr>\n",
       "  </tbody>\n",
       "</table>\n",
       "</div>"
      ],
      "text/plain": [
       "                      web_pages                                   name  \\\n",
       "0     [http://www.marywood.edu]                    Marywood University   \n",
       "2  [http://www.lindenwood.edu/]                  Lindenwood University   \n",
       "5       [https://sullivan.edu/]                    Sullivan University   \n",
       "6       [https://www.fscj.edu/]  Florida State College at Jacksonville   \n",
       "7     [https://www.xavier.edu/]                      Xavier University   \n",
       "\n",
       "  alpha_two_code state-province           domains        country  \n",
       "0             PA           None    [marywood.edu]  United States  \n",
       "2             US           None  [lindenwood.edu]  United States  \n",
       "5             US           None    [sullivan.edu]  United States  \n",
       "6             US           None        [fscj.edu]  United States  \n",
       "7             US           None      [xavier.edu]  United States  "
      ]
     },
     "execution_count": 60,
     "metadata": {},
     "output_type": "execute_result"
    }
   ],
   "source": [
    "usa = unis[unis['country'] == 'United States']\n",
    "usa.head()"
   ]
  },
  {
   "cell_type": "markdown",
   "metadata": {},
   "source": [
    "So now I have something to benchmark all of the university names in my DataFrame. Next I need to figure out more ways to clean my data or different ways to format it so that I can spot different variants of the same university name. I'm wondering if I should eliminate spaces and try to match the compositions of characters between an entry in my DataFrame and an entry in the university DataFrame. It might be significantly easier to just eliminate entries with a university name that only occurs once. I'm a little hesitant about eliminating data points, but it could be possible that those points don't add any significance to my analysis. I would really appreciate feedback and any suggestions about how I could tackle this problem. I will probably limit myself to just a couple more hours on this task."
   ]
  },
  {
   "cell_type": "markdown",
   "metadata": {},
   "source": [
    "#### Feature engineering and model building\n",
    "\n",
    "I will be eliminating this task from my project plan. I've made this decision because (1) this will probably be too much work and will take a lot more time to do and (2) it's not as interesting to build a model that predicts if someone gets an award or an honorable mention. It is more interesting for the model to predict if someone wins the award or doesn't, and unfortunately, NSF does not provide data of applicants that weren't recognized. If I acquire more free time outside of this class, I may still try to build models for more practice, but I'm no longering making my project depend on this portion."
   ]
  },
  {
   "cell_type": "markdown",
   "metadata": {},
   "source": [
    "#### Making interactive visualizations\n",
    "\n",
    "This task will be the culmination of my work in the previous tasks. I would like to build interactive figures that show how many recipients an institution or a particular field in science has had. I will start with a simple type of figure, in case I start to run out of time, like an interactive bar or pie chart that allows user to click on a section of data and learn how many recipients an institution or field has. If I have more time, I would still like to make a more sophisticated figure, like a heat map of the United States that shows states with a higher number of recipients, and if the user clicks on a state, a new figure is displayed that shows a bar graph of number of recipients versus institution. "
   ]
  }
 ],
 "metadata": {
  "kernelspec": {
   "display_name": "Python 3",
   "language": "python",
   "name": "python3"
  },
  "language_info": {
   "codemirror_mode": {
    "name": "ipython",
    "version": 3
   },
   "file_extension": ".py",
   "mimetype": "text/x-python",
   "name": "python",
   "nbconvert_exporter": "python",
   "pygments_lexer": "ipython3",
   "version": "3.7.1"
  }
 },
 "nbformat": 4,
 "nbformat_minor": 2
}
