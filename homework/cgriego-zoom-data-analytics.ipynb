{
 "cells": [
  {
   "cell_type": "markdown",
   "metadata": {},
   "source": [
    "# Zoom Data Analytics - Chasz Griego\n",
    "\n",
    "The goal of this assignment is to read and analyze data collected from a [Zoom webinar](https://canvas.cmu.edu/courses/14759/files/4702717/download?wrap=1) using Pandas DataFrames."
   ]
  },
  {
   "cell_type": "markdown",
   "metadata": {},
   "source": [
    "First we read our data (.csv file) using `read_csv()`. The file contains a column with indexes, so we use `index_col=0` to make that column the index. `na_values='--'` is used to convert the string `--` into `NaN` because it appears often in this file."
   ]
  },
  {
   "cell_type": "code",
   "execution_count": 31,
   "metadata": {},
   "outputs": [],
   "source": [
    "import pandas as pd\n",
    "df = pd.read_csv('cleaned-attendee-report.csv',index_col=0,na_values='--')"
   ]
  },
  {
   "cell_type": "code",
   "execution_count": 32,
   "metadata": {},
   "outputs": [
    {
     "data": {
      "text/html": [
       "<div>\n",
       "<style scoped>\n",
       "    .dataframe tbody tr th:only-of-type {\n",
       "        vertical-align: middle;\n",
       "    }\n",
       "\n",
       "    .dataframe tbody tr th {\n",
       "        vertical-align: top;\n",
       "    }\n",
       "\n",
       "    .dataframe thead th {\n",
       "        text-align: right;\n",
       "    }\n",
       "</style>\n",
       "<table border=\"1\" class=\"dataframe\">\n",
       "  <thead>\n",
       "    <tr style=\"text-align: right;\">\n",
       "      <th></th>\n",
       "      <th>Email</th>\n",
       "      <th>Registration Time</th>\n",
       "      <th>Approval Status</th>\n",
       "      <th>Join Time</th>\n",
       "      <th>Leave Time</th>\n",
       "      <th>Time in Session (minutes)</th>\n",
       "      <th>Country/Region Name</th>\n",
       "    </tr>\n",
       "  </thead>\n",
       "  <tbody>\n",
       "    <tr>\n",
       "      <th>0</th>\n",
       "      <td>MFVV8X1@6PD.Q6N.edu</td>\n",
       "      <td>3/24/20 11:35</td>\n",
       "      <td>approved</td>\n",
       "      <td>3/24/20 11:35</td>\n",
       "      <td>3/24/20 14:12</td>\n",
       "      <td>157.0</td>\n",
       "      <td>United States</td>\n",
       "    </tr>\n",
       "    <tr>\n",
       "      <th>1</th>\n",
       "      <td>91L5J49@N6U.6P2.edu</td>\n",
       "      <td>3/23/20 16:23</td>\n",
       "      <td>approved</td>\n",
       "      <td>3/24/20 10:41</td>\n",
       "      <td>3/24/20 14:06</td>\n",
       "      <td>205.0</td>\n",
       "      <td>United States</td>\n",
       "    </tr>\n",
       "    <tr>\n",
       "      <th>2</th>\n",
       "      <td>XTXIBKU@MS8.WHR.edu</td>\n",
       "      <td>3/24/20 12:43</td>\n",
       "      <td>approved</td>\n",
       "      <td>3/24/20 12:43</td>\n",
       "      <td>3/24/20 12:45</td>\n",
       "      <td>3.0</td>\n",
       "      <td>United States</td>\n",
       "    </tr>\n",
       "    <tr>\n",
       "      <th>3</th>\n",
       "      <td>RJZJ5PP@5Z5.0N9.edu</td>\n",
       "      <td>3/24/20 12:29</td>\n",
       "      <td>approved</td>\n",
       "      <td>3/24/20 14:17</td>\n",
       "      <td>3/24/20 14:42</td>\n",
       "      <td>25.0</td>\n",
       "      <td>Italy</td>\n",
       "    </tr>\n",
       "    <tr>\n",
       "      <th>4</th>\n",
       "      <td>RJZJ5PP@5Z5.0N9.edu</td>\n",
       "      <td>NaN</td>\n",
       "      <td>NaN</td>\n",
       "      <td>3/24/20 12:30</td>\n",
       "      <td>3/24/20 12:32</td>\n",
       "      <td>2.0</td>\n",
       "      <td>Italy</td>\n",
       "    </tr>\n",
       "  </tbody>\n",
       "</table>\n",
       "</div>"
      ],
      "text/plain": [
       "                 Email Registration Time Approval Status      Join Time  \\\n",
       "0  MFVV8X1@6PD.Q6N.edu     3/24/20 11:35        approved  3/24/20 11:35   \n",
       "1  91L5J49@N6U.6P2.edu     3/23/20 16:23        approved  3/24/20 10:41   \n",
       "2  XTXIBKU@MS8.WHR.edu     3/24/20 12:43        approved  3/24/20 12:43   \n",
       "3  RJZJ5PP@5Z5.0N9.edu     3/24/20 12:29        approved  3/24/20 14:17   \n",
       "4  RJZJ5PP@5Z5.0N9.edu               NaN             NaN  3/24/20 12:30   \n",
       "\n",
       "      Leave Time  Time in Session (minutes) Country/Region Name  \n",
       "0  3/24/20 14:12                      157.0       United States  \n",
       "1  3/24/20 14:06                      205.0       United States  \n",
       "2  3/24/20 12:45                        3.0       United States  \n",
       "3  3/24/20 14:42                       25.0               Italy  \n",
       "4  3/24/20 12:32                        2.0               Italy  "
      ]
     },
     "execution_count": 32,
     "metadata": {},
     "output_type": "execute_result"
    }
   ],
   "source": [
    "df.head()"
   ]
  },
  {
   "cell_type": "markdown",
   "metadata": {},
   "source": [
    "One of the columns in the Dataframe is called `Time in Session (minutes)`. This is the time a participant spent in the webinar in minutes. For reasons explained later in the notebook, a new column is added that has these values converted to hours."
   ]
  },
  {
   "cell_type": "code",
   "execution_count": 33,
   "metadata": {},
   "outputs": [],
   "source": [
    "df['Time in Session (hours)'] = df['Time in Session (minutes)'].apply(lambda x: x / 60)"
   ]
  },
  {
   "cell_type": "markdown",
   "metadata": {},
   "source": [
    "### Task 1: Use `df.describe()`\n",
    "\n",
    "Below this function is called and displays a summary about only the data in the \"Time in Session\" columns. This summary includes, the number of items, the mean value, min and max values, and others."
   ]
  },
  {
   "cell_type": "code",
   "execution_count": 34,
   "metadata": {},
   "outputs": [
    {
     "data": {
      "text/html": [
       "<div>\n",
       "<style scoped>\n",
       "    .dataframe tbody tr th:only-of-type {\n",
       "        vertical-align: middle;\n",
       "    }\n",
       "\n",
       "    .dataframe tbody tr th {\n",
       "        vertical-align: top;\n",
       "    }\n",
       "\n",
       "    .dataframe thead th {\n",
       "        text-align: right;\n",
       "    }\n",
       "</style>\n",
       "<table border=\"1\" class=\"dataframe\">\n",
       "  <thead>\n",
       "    <tr style=\"text-align: right;\">\n",
       "      <th></th>\n",
       "      <th>Time in Session (minutes)</th>\n",
       "      <th>Time in Session (hours)</th>\n",
       "    </tr>\n",
       "  </thead>\n",
       "  <tbody>\n",
       "    <tr>\n",
       "      <th>count</th>\n",
       "      <td>863.000000</td>\n",
       "      <td>863.000000</td>\n",
       "    </tr>\n",
       "    <tr>\n",
       "      <th>mean</th>\n",
       "      <td>72.443801</td>\n",
       "      <td>1.207397</td>\n",
       "    </tr>\n",
       "    <tr>\n",
       "      <th>std</th>\n",
       "      <td>85.962957</td>\n",
       "      <td>1.432716</td>\n",
       "    </tr>\n",
       "    <tr>\n",
       "      <th>min</th>\n",
       "      <td>0.000000</td>\n",
       "      <td>0.000000</td>\n",
       "    </tr>\n",
       "    <tr>\n",
       "      <th>25%</th>\n",
       "      <td>5.000000</td>\n",
       "      <td>0.083333</td>\n",
       "    </tr>\n",
       "    <tr>\n",
       "      <th>50%</th>\n",
       "      <td>36.000000</td>\n",
       "      <td>0.600000</td>\n",
       "    </tr>\n",
       "    <tr>\n",
       "      <th>75%</th>\n",
       "      <td>108.000000</td>\n",
       "      <td>1.800000</td>\n",
       "    </tr>\n",
       "    <tr>\n",
       "      <th>max</th>\n",
       "      <td>313.000000</td>\n",
       "      <td>5.216667</td>\n",
       "    </tr>\n",
       "  </tbody>\n",
       "</table>\n",
       "</div>"
      ],
      "text/plain": [
       "       Time in Session (minutes)  Time in Session (hours)\n",
       "count                 863.000000               863.000000\n",
       "mean                   72.443801                 1.207397\n",
       "std                    85.962957                 1.432716\n",
       "min                     0.000000                 0.000000\n",
       "25%                     5.000000                 0.083333\n",
       "50%                    36.000000                 0.600000\n",
       "75%                   108.000000                 1.800000\n",
       "max                   313.000000                 5.216667"
      ]
     },
     "execution_count": 34,
     "metadata": {},
     "output_type": "execute_result"
    }
   ],
   "source": [
    "df.describe()"
   ]
  },
  {
   "cell_type": "markdown",
   "metadata": {},
   "source": [
    "### Task 2: Count the number of people registered\n",
    "\n",
    "People are anonymously identified with an email address in this DataFrame. There will be a unique address for each person registered. We can count them using `.unique()`"
   ]
  },
  {
   "cell_type": "code",
   "execution_count": 35,
   "metadata": {},
   "outputs": [
    {
     "data": {
      "text/plain": [
       "487"
      ]
     },
     "execution_count": 35,
     "metadata": {},
     "output_type": "execute_result"
    }
   ],
   "source": [
    "len(df['Email'].unique())"
   ]
  },
  {
   "cell_type": "markdown",
   "metadata": {},
   "source": [
    "### Task 3: Count the number of people that attended the symposium\n",
    "\n",
    "Next we can count how many of the people who registered actually joined the webinar on Zoom. Here we can use the \"Time in Session\" columns. If a registered person didn't attend, these columns will contain `NaN` values. We'll drop these rows using `df.dropna()` and store the output to a new variable. Then we use the same approach as above to count the number of attendees."
   ]
  },
  {
   "cell_type": "code",
   "execution_count": 36,
   "metadata": {},
   "outputs": [
    {
     "data": {
      "text/plain": [
       "433"
      ]
     },
     "execution_count": 36,
     "metadata": {},
     "output_type": "execute_result"
    }
   ],
   "source": [
    "d1 = df.dropna(subset=['Time in Session (minutes)','Time in Session (hours)'])\n",
    "len(d1['Email'].unique())"
   ]
  },
  {
   "cell_type": "markdown",
   "metadata": {},
   "source": [
    "### Task 4: List the unique countries and count them\n",
    "\n",
    "Next we can make a group using `.groupby` to sort the DataFrame by values in the colum `Country/Region Name`. We can store each unique country in a list using a list comprehension looping through every index in the group. Then we return the length of the list to count the number of countries. Alternatively, all of this can be done using `d1['Country/Region Name'].unique()`."
   ]
  },
  {
   "cell_type": "code",
   "execution_count": 37,
   "metadata": {},
   "outputs": [
    {
     "data": {
      "text/plain": [
       "34"
      ]
     },
     "execution_count": 37,
     "metadata": {},
     "output_type": "execute_result"
    }
   ],
   "source": [
    "country_group = d1.groupby('Country/Region Name')\n",
    "countries = [key for key in country_group.indices]\n",
    "len(countries)"
   ]
  },
  {
   "cell_type": "markdown",
   "metadata": {},
   "source": [
    "### Task 5: Plot a histogram of total time in session for each user and compute the average time spent in the session. \n",
    "\n",
    "Here we're interested in seeing how long people stayed in the session. Some users came in and out of the webinar, so they have multiple entries with different records of \"Time in Session\" that need to be aggregated. We can group together the rows in our DataFrame that pertain to one user (one email) with `df.groupby('Email')` and sum the time intervals using `.sum()`."
   ]
  },
  {
   "cell_type": "code",
   "execution_count": 38,
   "metadata": {},
   "outputs": [],
   "source": [
    "user_group = df.groupby(['Email'])\n",
    "total_time = user_group.sum()"
   ]
  },
  {
   "cell_type": "markdown",
   "metadata": {},
   "source": [
    "Below is the histogram using the column `Time in Session (minutes`. The biggest take-away is that many participants didn't stay in the session longer an hour and only a small handful stayed for the whole duration."
   ]
  },
  {
   "cell_type": "code",
   "execution_count": 44,
   "metadata": {},
   "outputs": [
    {
     "data": {
      "text/plain": [
       "Text(0.5,1,'Histogram of User Time Spent in Session')"
      ]
     },
     "execution_count": 44,
     "metadata": {},
     "output_type": "execute_result"
    },
    {
     "data": {
      "image/png": "[encoded data removed]",
      "text/plain": [
       "<Figure size 432x288 with 1 Axes>"
      ]
     },
     "metadata": {
      "needs_background": "light"
     },
     "output_type": "display_data"
    }
   ],
   "source": [
    "from matplotlib import pyplot as plt\n",
    "total_time.hist('Time in Session (minutes)')\n",
    "plt.xlabel('Time (minutes)')\n",
    "plt.ylabel('Frequency')\n",
    "plt.title('Histogram of User Time Spent in Session')"
   ]
  },
  {
   "cell_type": "markdown",
   "metadata": {},
   "source": [
    "I thought it would also be more informative to see this histogram with hours in the x axis. That's the main reason the `Time in Session (hours)` column was added. Now it's easier to see that an hour or less in the webinar was the most common time spent."
   ]
  },
  {
   "cell_type": "code",
   "execution_count": 46,
   "metadata": {},
   "outputs": [
    {
     "data": {
      "text/plain": [
       "Text(0.5,1,'Histogram of User Time Spent in Session')"
      ]
     },
     "execution_count": 46,
     "metadata": {},
     "output_type": "execute_result"
    },
    {
     "data": {
      "image/png": "[encoded data removed]",
      "text/plain": [
       "<Figure size 432x288 with 1 Axes>"
      ]
     },
     "metadata": {
      "needs_background": "light"
     },
     "output_type": "display_data"
    }
   ],
   "source": [
    "total_time.hist('Time in Session (hours)')\n",
    "plt.xlabel('Time (hours)')\n",
    "plt.ylabel('Frequency')\n",
    "plt.title('Histogram of User Time Spent in Session')"
   ]
  },
  {
   "cell_type": "markdown",
   "metadata": {},
   "source": [
    "Below are the average values for the time spent. The average participant spent a little over 2 hours in the webinar."
   ]
  },
  {
   "cell_type": "code",
   "execution_count": 14,
   "metadata": {},
   "outputs": [
    {
     "data": {
      "text/plain": [
       "Time in Session (minutes)    128.375770\n",
       "Time in Session (hours)        2.139596\n",
       "dtype: float64"
      ]
     },
     "execution_count": 14,
     "metadata": {},
     "output_type": "execute_result"
    }
   ],
   "source": [
    "total_time.mean()"
   ]
  }
 ],
 "metadata": {
  "kernelspec": {
   "display_name": "Python 3",
   "language": "python",
   "name": "python3"
  },
  "language_info": {
   "codemirror_mode": {
    "name": "ipython",
    "version": 3
   },
   "file_extension": ".py",
   "mimetype": "text/x-python",
   "name": "python",
   "nbconvert_exporter": "python",
   "pygments_lexer": "ipython3",
   "version": "3.7.0"
  }
 },
 "nbformat": 4,
 "nbformat_minor": 2
}
