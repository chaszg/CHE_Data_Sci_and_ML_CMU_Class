{
 "cells": [
  {
   "cell_type": "markdown",
   "metadata": {},
   "source": [
    "# Tell me about yourself\n",
    "\n",
    "Name: <font color=\"red\">(Charles Griego)</font>\n",
    "\n",
    "When you are done with this, please save your ipynb with this filename: andrewid-introduction.ipynb and submit it in canvas. E.g. my andrewid is jkitchin, so I would name this file: jkitchin-introduction.ipynb \n",
    "\n",
    "If you are in Jupyter lab, you can rename it by right-clicking on the tab or on the file name in the navigator pane to the left.\n",
    "\n",
    "In the next cell, please write the name you prefer to be called by:"
   ]
  },
  {
   "cell_type": "markdown",
   "metadata": {},
   "source": [
    "Chasz"
   ]
  },
  {
   "cell_type": "markdown",
   "metadata": {},
   "source": [
    "## If you have a research advisor, please note that here. Please include the School and Department."
   ]
  },
  {
   "cell_type": "markdown",
   "metadata": {},
   "source": [
    "Prof. John Keith, Department of Chemical and Petroleum Engineering, University of Pittsburgh"
   ]
  },
  {
   "cell_type": "markdown",
   "metadata": {},
   "source": [
    "## About your research\n",
    "If you have a research project, please describe it here. Tell me if it is computational or experimental. What kinds of data do you work with? What data formats? What kind of questions are you trying to answer?\n",
    "\n",
    "If you do not have a research project, try describing a project you worked on before that had data challenges in it, and answer the same kind of questions as above."
   ]
  },
  {
   "cell_type": "markdown",
   "metadata": {},
   "source": [
    "I do computational research. The topic is high-throughput screening of heterogeneous catalysts using the computational alchemy method. This methods allows us to obtain hundreds of catalyst descriptors (like reaction energetics) from DFT calculations at minimal computational cost. I am assessing this method, testing its limitations, and seeing how we can improve it. I can easily generate many descriptors (numerical quantities) and I typically store them in Pandas DataFrames and write them to CSV files. A question I'd like to answer is how this method could be used to leverage catalyst discovery, and how could I utilize exisiting databases of DFT calculated catalyst data with data science and machine learning to make inferences from alchemy predictions. "
   ]
  },
  {
   "cell_type": "markdown",
   "metadata": {},
   "source": [
    "## List some specific skills you are hoping to learn in this mini"
   ]
  },
  {
   "cell_type": "markdown",
   "metadata": {},
   "source": [
    "I want to learn best practices cleaning data (especially text data), building features, training machine learning models, and validating models with the appropriate statistical techniques."
   ]
  }
 ],
 "metadata": {
  "kernelspec": {
   "display_name": "Python 3",
   "language": "python",
   "name": "python3"
  },
  "language_info": {
   "codemirror_mode": {
    "name": "ipython",
    "version": 3
   },
   "file_extension": ".py",
   "mimetype": "text/x-python",
   "name": "python",
   "nbconvert_exporter": "python",
   "pygments_lexer": "ipython3",
   "version": "3.7.1"
  }
 },
 "nbformat": 4,
 "nbformat_minor": 4
}
